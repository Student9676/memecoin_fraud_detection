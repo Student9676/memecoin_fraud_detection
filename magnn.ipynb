{
 "cells": [
  {
   "cell_type": "code",
   "execution_count": 18,
   "id": "fa974700",
   "metadata": {},
   "outputs": [],
   "source": [
    "import torch\n",
    "import torch.nn.functional as F\n",
    "from torch.nn import Linear, ModuleDict\n",
    "from torch_geometric.data import DataLoader\n",
    "from torch_geometric.nn import HeteroConv, GATConv, global_mean_pool\n",
    "from torch_geometric.transforms import ToUndirected\n",
    "import os, glob, json\n",
    "from sklearn.model_selection import train_test_split\n",
    "from sklearn.metrics import precision_score, recall_score, f1_score\n",
    "import pandas as pd\n",
    "import numpy as np\n",
    "import matplotlib.pyplot as plt\n",
    "\n",
    "device = torch.device(\"cuda\" if torch.cuda.is_available() else \"mps\" if torch.backends.mps.is_available() else \"cpu\")\n",
    "GRAPH_FOLDER = \"heterographs/\""
   ]
  },
  {
   "cell_type": "code",
   "execution_count": 19,
   "id": "7969e4ae",
   "metadata": {},
   "outputs": [
    {
     "name": "stderr",
     "output_type": "stream",
     "text": [
      "/Users/drew/Desktop/CS/CS 485/memecoin_fraud_detection/.venv/lib/python3.9/site-packages/torch_geometric/deprecation.py:26: UserWarning: 'data.DataLoader' is deprecated, use 'loader.DataLoader' instead\n",
      "  warnings.warn(out)\n"
     ]
    }
   ],
   "source": [
    "# Load data\n",
    "with open(\"data/labels.json\") as f:\n",
    "    labels_dict = json.load(f)\n",
    "\n",
    "graphs, labels = [], []\n",
    "for file in glob.glob(os.path.join(GRAPH_FOLDER, \"*.pt\")):\n",
    "    graph = torch.load(file, weights_only=False)\n",
    "    graph = ToUndirected()(graph)\n",
    "    graph['label'] = torch.tensor([labels_dict[os.path.basename(file)]], dtype=torch.float)\n",
    "    graphs.append(graph)\n",
    "    labels.append(labels_dict[os.path.basename(file)])\n",
    "\n",
    "train_graphs, test_graphs = train_test_split(graphs, test_size=0.2, stratify=labels, random_state=42)\n",
    "train_loader = DataLoader(train_graphs, batch_size=2, shuffle=True)\n",
    "test_loader = DataLoader(test_graphs, batch_size=2)"
   ]
  },
  {
   "cell_type": "code",
   "execution_count": 20,
   "id": "0880738a",
   "metadata": {},
   "outputs": [],
   "source": [
    "class MAGNN(torch.nn.Module):\n",
    "    def __init__(self, metadata, meta_paths, hidden_channels=32):\n",
    "        super().__init__()\n",
    "        self.meta_paths = meta_paths\n",
    "        self.gnn_per_metapath = ModuleDict()\n",
    "        for i, path in enumerate(meta_paths):\n",
    "            self.gnn_per_metapath[f'meta_{i}'] = HeteroConv({\n",
    "                edge_type: GATConv(\n",
    "                    (-1, -1), hidden_channels, add_self_loops=False\n",
    "                )\n",
    "                for edge_type in path\n",
    "            }, aggr='sum')\n",
    "        self.attn = Linear(hidden_channels, 1)\n",
    "        self.final = Linear(hidden_channels, 1)\n",
    "\n",
    "    def forward(self, x_dict, edge_index_dict, batch_dict):\n",
    "        meta_outs = []\n",
    "\n",
    "        for i, path in enumerate(self.meta_paths):\n",
    "            pooled = []\n",
    "            try:\n",
    "                x = self.gnn_per_metapath[f'meta_{i}'](x_dict, edge_index_dict)\n",
    "                for node_type in x:\n",
    "                    if node_type in batch_dict and x[node_type].size(0) > 0:\n",
    "                        pooled.append(global_mean_pool(x[node_type], batch_dict[node_type]))\n",
    "            except KeyError:\n",
    "                continue  # skip if edge types are missing in this graph\n",
    "\n",
    "            if len(pooled) == 0:\n",
    "                continue  # skip this meta-path if no valid node type is found\n",
    "\n",
    "            meta_outs.append(torch.stack(pooled).sum(dim=0))\n",
    "\n",
    "        if len(meta_outs) == 0:\n",
    "            raise ValueError(\"No meta-paths produced valid node outputs.\")\n",
    "\n",
    "        meta_outs = torch.stack(meta_outs, dim=1)\n",
    "        attn_weights = F.softmax(self.attn(meta_outs).squeeze(-1), dim=1)\n",
    "        out = torch.sum(meta_outs * attn_weights.unsqueeze(-1), dim=1)\n",
    "        return self.final(out).view(-1)\n",
    "\n",
    "# Define meta-paths manually\n",
    "meta_paths = [\n",
    "    [('wallet', 'wallet_token', 'token'), ('token', 'token_wallet', 'wallet')],\n",
    "    [('wallet', 'wallet_dev', 'dev'), ('dev', 'dev_wallet', 'wallet')],\n",
    "]"
   ]
  },
  {
   "cell_type": "code",
   "execution_count": 21,
   "id": "579e9d6c",
   "metadata": {},
   "outputs": [
    {
     "ename": "ValueError",
     "evalue": "No meta-paths produced valid node outputs.",
     "output_type": "error",
     "traceback": [
      "\u001b[0;31m---------------------------------------------------------------------------\u001b[0m",
      "\u001b[0;31mValueError\u001b[0m                                Traceback (most recent call last)",
      "Cell \u001b[0;32mIn[21], line 35\u001b[0m\n\u001b[1;32m     33\u001b[0m df \u001b[38;5;241m=\u001b[39m pd\u001b[38;5;241m.\u001b[39mDataFrame(columns\u001b[38;5;241m=\u001b[39m[\u001b[38;5;124m'\u001b[39m\u001b[38;5;124mepoch\u001b[39m\u001b[38;5;124m'\u001b[39m, \u001b[38;5;124m'\u001b[39m\u001b[38;5;124mloss\u001b[39m\u001b[38;5;124m'\u001b[39m, \u001b[38;5;124m'\u001b[39m\u001b[38;5;124maccuracy\u001b[39m\u001b[38;5;124m'\u001b[39m, \u001b[38;5;124m'\u001b[39m\u001b[38;5;124mprecision\u001b[39m\u001b[38;5;124m'\u001b[39m, \u001b[38;5;124m'\u001b[39m\u001b[38;5;124mrecall\u001b[39m\u001b[38;5;124m'\u001b[39m, \u001b[38;5;124m'\u001b[39m\u001b[38;5;124mf1\u001b[39m\u001b[38;5;124m'\u001b[39m])\n\u001b[1;32m     34\u001b[0m \u001b[38;5;28;01mfor\u001b[39;00m epoch \u001b[38;5;129;01min\u001b[39;00m \u001b[38;5;28mrange\u001b[39m(\u001b[38;5;241m1\u001b[39m, \u001b[38;5;241m201\u001b[39m):\n\u001b[0;32m---> 35\u001b[0m     loss \u001b[38;5;241m=\u001b[39m \u001b[43mtrain\u001b[49m\u001b[43m(\u001b[49m\u001b[43m)\u001b[49m\n\u001b[1;32m     36\u001b[0m     accuracy, precision, recall, f1 \u001b[38;5;241m=\u001b[39m test(test_loader)\n\u001b[1;32m     37\u001b[0m     \u001b[38;5;28;01mif\u001b[39;00m epoch \u001b[38;5;241m%\u001b[39m \u001b[38;5;241m10\u001b[39m \u001b[38;5;241m==\u001b[39m \u001b[38;5;241m0\u001b[39m:\n",
      "Cell \u001b[0;32mIn[21], line 12\u001b[0m, in \u001b[0;36mtrain\u001b[0;34m()\u001b[0m\n\u001b[1;32m     10\u001b[0m data \u001b[38;5;241m=\u001b[39m data\u001b[38;5;241m.\u001b[39mto(device)\n\u001b[1;32m     11\u001b[0m optimizer\u001b[38;5;241m.\u001b[39mzero_grad()\n\u001b[0;32m---> 12\u001b[0m out \u001b[38;5;241m=\u001b[39m \u001b[43mmodel\u001b[49m\u001b[43m(\u001b[49m\u001b[43mdata\u001b[49m\u001b[38;5;241;43m.\u001b[39;49m\u001b[43mx_dict\u001b[49m\u001b[43m,\u001b[49m\u001b[43m \u001b[49m\u001b[43mdata\u001b[49m\u001b[38;5;241;43m.\u001b[39;49m\u001b[43medge_index_dict\u001b[49m\u001b[43m,\u001b[49m\u001b[43m \u001b[49m\u001b[43mdata\u001b[49m\u001b[38;5;241;43m.\u001b[39;49m\u001b[43mbatch_dict\u001b[49m\u001b[43m)\u001b[49m\n\u001b[1;32m     13\u001b[0m loss \u001b[38;5;241m=\u001b[39m criterion(out, data[\u001b[38;5;124m'\u001b[39m\u001b[38;5;124mlabel\u001b[39m\u001b[38;5;124m'\u001b[39m]\u001b[38;5;241m.\u001b[39mto(device))\n\u001b[1;32m     14\u001b[0m loss\u001b[38;5;241m.\u001b[39mbackward()\n",
      "File \u001b[0;32m~/Desktop/CS/CS 485/memecoin_fraud_detection/.venv/lib/python3.9/site-packages/torch/nn/modules/module.py:1511\u001b[0m, in \u001b[0;36mModule._wrapped_call_impl\u001b[0;34m(self, *args, **kwargs)\u001b[0m\n\u001b[1;32m   1509\u001b[0m     \u001b[38;5;28;01mreturn\u001b[39;00m \u001b[38;5;28mself\u001b[39m\u001b[38;5;241m.\u001b[39m_compiled_call_impl(\u001b[38;5;241m*\u001b[39margs, \u001b[38;5;241m*\u001b[39m\u001b[38;5;241m*\u001b[39mkwargs)  \u001b[38;5;66;03m# type: ignore[misc]\u001b[39;00m\n\u001b[1;32m   1510\u001b[0m \u001b[38;5;28;01melse\u001b[39;00m:\n\u001b[0;32m-> 1511\u001b[0m     \u001b[38;5;28;01mreturn\u001b[39;00m \u001b[38;5;28;43mself\u001b[39;49m\u001b[38;5;241;43m.\u001b[39;49m\u001b[43m_call_impl\u001b[49m\u001b[43m(\u001b[49m\u001b[38;5;241;43m*\u001b[39;49m\u001b[43margs\u001b[49m\u001b[43m,\u001b[49m\u001b[43m \u001b[49m\u001b[38;5;241;43m*\u001b[39;49m\u001b[38;5;241;43m*\u001b[39;49m\u001b[43mkwargs\u001b[49m\u001b[43m)\u001b[49m\n",
      "File \u001b[0;32m~/Desktop/CS/CS 485/memecoin_fraud_detection/.venv/lib/python3.9/site-packages/torch/nn/modules/module.py:1520\u001b[0m, in \u001b[0;36mModule._call_impl\u001b[0;34m(self, *args, **kwargs)\u001b[0m\n\u001b[1;32m   1515\u001b[0m \u001b[38;5;66;03m# If we don't have any hooks, we want to skip the rest of the logic in\u001b[39;00m\n\u001b[1;32m   1516\u001b[0m \u001b[38;5;66;03m# this function, and just call forward.\u001b[39;00m\n\u001b[1;32m   1517\u001b[0m \u001b[38;5;28;01mif\u001b[39;00m \u001b[38;5;129;01mnot\u001b[39;00m (\u001b[38;5;28mself\u001b[39m\u001b[38;5;241m.\u001b[39m_backward_hooks \u001b[38;5;129;01mor\u001b[39;00m \u001b[38;5;28mself\u001b[39m\u001b[38;5;241m.\u001b[39m_backward_pre_hooks \u001b[38;5;129;01mor\u001b[39;00m \u001b[38;5;28mself\u001b[39m\u001b[38;5;241m.\u001b[39m_forward_hooks \u001b[38;5;129;01mor\u001b[39;00m \u001b[38;5;28mself\u001b[39m\u001b[38;5;241m.\u001b[39m_forward_pre_hooks\n\u001b[1;32m   1518\u001b[0m         \u001b[38;5;129;01mor\u001b[39;00m _global_backward_pre_hooks \u001b[38;5;129;01mor\u001b[39;00m _global_backward_hooks\n\u001b[1;32m   1519\u001b[0m         \u001b[38;5;129;01mor\u001b[39;00m _global_forward_hooks \u001b[38;5;129;01mor\u001b[39;00m _global_forward_pre_hooks):\n\u001b[0;32m-> 1520\u001b[0m     \u001b[38;5;28;01mreturn\u001b[39;00m \u001b[43mforward_call\u001b[49m\u001b[43m(\u001b[49m\u001b[38;5;241;43m*\u001b[39;49m\u001b[43margs\u001b[49m\u001b[43m,\u001b[49m\u001b[43m \u001b[49m\u001b[38;5;241;43m*\u001b[39;49m\u001b[38;5;241;43m*\u001b[39;49m\u001b[43mkwargs\u001b[49m\u001b[43m)\u001b[49m\n\u001b[1;32m   1522\u001b[0m \u001b[38;5;28;01mtry\u001b[39;00m:\n\u001b[1;32m   1523\u001b[0m     result \u001b[38;5;241m=\u001b[39m \u001b[38;5;28;01mNone\u001b[39;00m\n",
      "Cell \u001b[0;32mIn[20], line 35\u001b[0m, in \u001b[0;36mMAGNN.forward\u001b[0;34m(self, x_dict, edge_index_dict, batch_dict)\u001b[0m\n\u001b[1;32m     32\u001b[0m     meta_outs\u001b[38;5;241m.\u001b[39mappend(torch\u001b[38;5;241m.\u001b[39mstack(pooled)\u001b[38;5;241m.\u001b[39msum(dim\u001b[38;5;241m=\u001b[39m\u001b[38;5;241m0\u001b[39m))\n\u001b[1;32m     34\u001b[0m \u001b[38;5;28;01mif\u001b[39;00m \u001b[38;5;28mlen\u001b[39m(meta_outs) \u001b[38;5;241m==\u001b[39m \u001b[38;5;241m0\u001b[39m:\n\u001b[0;32m---> 35\u001b[0m     \u001b[38;5;28;01mraise\u001b[39;00m \u001b[38;5;167;01mValueError\u001b[39;00m(\u001b[38;5;124m\"\u001b[39m\u001b[38;5;124mNo meta-paths produced valid node outputs.\u001b[39m\u001b[38;5;124m\"\u001b[39m)\n\u001b[1;32m     37\u001b[0m meta_outs \u001b[38;5;241m=\u001b[39m torch\u001b[38;5;241m.\u001b[39mstack(meta_outs, dim\u001b[38;5;241m=\u001b[39m\u001b[38;5;241m1\u001b[39m)\n\u001b[1;32m     38\u001b[0m attn_weights \u001b[38;5;241m=\u001b[39m F\u001b[38;5;241m.\u001b[39msoftmax(\u001b[38;5;28mself\u001b[39m\u001b[38;5;241m.\u001b[39mattn(meta_outs)\u001b[38;5;241m.\u001b[39msqueeze(\u001b[38;5;241m-\u001b[39m\u001b[38;5;241m1\u001b[39m), dim\u001b[38;5;241m=\u001b[39m\u001b[38;5;241m1\u001b[39m)\n",
      "\u001b[0;31mValueError\u001b[0m: No meta-paths produced valid node outputs."
     ]
    }
   ],
   "source": [
    "# Training and testing\n",
    "model = MAGNN(train_graphs[0].metadata(), meta_paths).to(device)\n",
    "optimizer = torch.optim.Adam(model.parameters(), lr=0.005)\n",
    "criterion = torch.nn.BCEWithLogitsLoss()\n",
    "\n",
    "def train():\n",
    "    model.train()\n",
    "    total_loss = 0\n",
    "    for data in train_loader:\n",
    "        data = data.to(device)\n",
    "        optimizer.zero_grad()\n",
    "        out = model(data.x_dict, data.edge_index_dict, data.batch_dict)\n",
    "        loss = criterion(out, data['label'].to(device))\n",
    "        loss.backward()\n",
    "        optimizer.step()\n",
    "        total_loss += loss.item() * data.num_graphs\n",
    "    return total_loss / len(train_loader.dataset)\n",
    "\n",
    "def test(loader):\n",
    "    model.eval()\n",
    "    all_preds, all_labels = [], []\n",
    "    with torch.no_grad():\n",
    "        for data in loader:\n",
    "            data = data.to(device)\n",
    "            out = torch.sigmoid(model(data.x_dict, data.edge_index_dict, data.batch_dict))\n",
    "            pred = (out > 0.5).float()\n",
    "            all_preds.extend(pred.cpu().numpy())\n",
    "            all_labels.extend(data['label'].cpu().numpy())\n",
    "    accuracy = (np.array(all_preds) == np.array(all_labels)).mean()\n",
    "    return accuracy, precision_score(all_labels, all_preds), recall_score(all_labels, all_preds), f1_score(all_labels, all_preds)\n",
    "\n",
    "# Train loop\n",
    "df = pd.DataFrame(columns=['epoch', 'loss', 'accuracy', 'precision', 'recall', 'f1'])\n",
    "for epoch in range(1, 201):\n",
    "    loss = train()\n",
    "    accuracy, precision, recall, f1 = test(test_loader)\n",
    "    if epoch % 10 == 0:\n",
    "        print(f\"Epoch {epoch}, Loss: {loss:.4f}, Acc: {accuracy:.4f}, P: {precision:.4f}, R: {recall:.4f}, F1: {f1:.4f}\")\n",
    "    df = pd.concat([df, pd.DataFrame([{\n",
    "        'epoch': epoch, 'loss': loss, 'accuracy': accuracy,\n",
    "        'precision': precision, 'recall': recall, 'f1': f1\n",
    "    }])], ignore_index=True)\n",
    "    if loss < 0.01:\n",
    "        break\n",
    "\n",
    "df.to_csv(\"model/magnn_training_results.csv\", index=False)\n",
    "torch.save(model.state_dict(), f\"model/magnn_epoch_{epoch}.pth\")"
   ]
  },
  {
   "cell_type": "code",
   "execution_count": null,
   "id": "6193c3f3",
   "metadata": {},
   "outputs": [],
   "source": [
    "# Plot\n",
    "df['loss'] = (df['loss'] - df['loss'].min()) / (df['loss'].max() - df['loss'].min())\n",
    "plt.figure(figsize=(10, 6))\n",
    "for col in ['loss', 'accuracy', 'precision', 'recall', 'f1']:\n",
    "    plt.plot(df['epoch'], df[col], label=col)\n",
    "plt.xlabel('Epoch'); plt.ylabel('Metric'); plt.title('MAGNN Training Metrics'); plt.legend(); plt.grid(True); plt.show()"
   ]
  }
 ],
 "metadata": {
  "kernelspec": {
   "display_name": ".venv",
   "language": "python",
   "name": "python3"
  },
  "language_info": {
   "codemirror_mode": {
    "name": "ipython",
    "version": 3
   },
   "file_extension": ".py",
   "mimetype": "text/x-python",
   "name": "python",
   "nbconvert_exporter": "python",
   "pygments_lexer": "ipython3",
   "version": "3.9.6"
  }
 },
 "nbformat": 4,
 "nbformat_minor": 5
}
